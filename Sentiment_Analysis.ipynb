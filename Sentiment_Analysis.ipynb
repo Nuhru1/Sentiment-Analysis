{
 "cells": [
  {
   "cell_type": "code",
   "execution_count": 1,
   "metadata": {},
   "outputs": [
    {
     "data": {
      "text/html": [
       "<div>\n",
       "<style scoped>\n",
       "    .dataframe tbody tr th:only-of-type {\n",
       "        vertical-align: middle;\n",
       "    }\n",
       "\n",
       "    .dataframe tbody tr th {\n",
       "        vertical-align: top;\n",
       "    }\n",
       "\n",
       "    .dataframe thead th {\n",
       "        text-align: right;\n",
       "    }\n",
       "</style>\n",
       "<table border=\"1\" class=\"dataframe\">\n",
       "  <thead>\n",
       "    <tr style=\"text-align: right;\">\n",
       "      <th></th>\n",
       "      <th>speech</th>\n",
       "    </tr>\n",
       "  </thead>\n",
       "  <tbody>\n",
       "    <tr>\n",
       "      <td>President_Tsai</td>\n",
       "      <td>Friends from the domestic and international me...</td>\n",
       "    </tr>\n",
       "  </tbody>\n",
       "</table>\n",
       "</div>"
      ],
      "text/plain": [
       "                                                           speech\n",
       "President_Tsai  Friends from the domestic and international me..."
      ]
     },
     "execution_count": 1,
     "metadata": {},
     "output_type": "execute_result"
    }
   ],
   "source": [
    "# start by reading the corpus, which preserves word order\n",
    "import pandas as pd\n",
    "\n",
    "data = pd.read_pickle('corpus_Tsai.pkl')\n",
    "data"
   ]
  },
  {
   "cell_type": "code",
   "execution_count": 2,
   "metadata": {},
   "outputs": [
    {
     "data": {
      "text/html": [
       "<div>\n",
       "<style scoped>\n",
       "    .dataframe tbody tr th:only-of-type {\n",
       "        vertical-align: middle;\n",
       "    }\n",
       "\n",
       "    .dataframe tbody tr th {\n",
       "        vertical-align: top;\n",
       "    }\n",
       "\n",
       "    .dataframe thead th {\n",
       "        text-align: right;\n",
       "    }\n",
       "</style>\n",
       "<table border=\"1\" class=\"dataframe\">\n",
       "  <thead>\n",
       "    <tr style=\"text-align: right;\">\n",
       "      <th></th>\n",
       "      <th>speech</th>\n",
       "      <th>polarity</th>\n",
       "      <th>subjectivity</th>\n",
       "    </tr>\n",
       "  </thead>\n",
       "  <tbody>\n",
       "    <tr>\n",
       "      <th>President_Tsai</th>\n",
       "      <td>Friends from the domestic and international me...</td>\n",
       "      <td>0.167598</td>\n",
       "      <td>0.419575</td>\n",
       "    </tr>\n",
       "  </tbody>\n",
       "</table>\n",
       "</div>"
      ],
      "text/plain": [
       "                                                           speech  polarity  \\\n",
       "President_Tsai  Friends from the domestic and international me...  0.167598   \n",
       "\n",
       "                subjectivity  \n",
       "President_Tsai      0.419575  "
      ]
     },
     "execution_count": 2,
     "metadata": {},
     "output_type": "execute_result"
    }
   ],
   "source": [
    "# Create quick lambda functions to find the polarity and subjectivity of each routine\n",
    "# Terminal / Anaconda Navigator: conda install -c conda-forge textblob\n",
    "from textblob import TextBlob\n",
    "\n",
    "pol = lambda x: TextBlob(x).sentiment.polarity\n",
    "sub = lambda x: TextBlob(x).sentiment.subjectivity\n",
    "\n",
    "data['polarity'] = data['speech'].apply(pol)\n",
    "data['subjectivity'] = data['speech'].apply(sub)\n",
    "data"
   ]
  },
  {
   "cell_type": "code",
   "execution_count": 5,
   "metadata": {},
   "outputs": [],
   "source": [
    "# Split each routine into 10 parts\n",
    "import numpy as np\n",
    "import math\n",
    "\n",
    "def split_text(text, n=10):\n",
    "    '''Takes in a string of text and splits into n equal parts, with a default of 10 equal parts.'''\n",
    "\n",
    "    # Calculate length of text, the size of each chunk of text and the starting points of each chunk of text\n",
    "    length = len(text)\n",
    "    size = math.floor(length / n)\n",
    "    start = np.arange(0, length, size)\n",
    "    \n",
    "    # Pull out equally sized pieces of text and put it into a list\n",
    "    split_list = []\n",
    "    for piece in range(n):\n",
    "        split_list.append(text[start[piece]:start[piece]+size])\n",
    "    return split_list"
   ]
  },
  {
   "cell_type": "code",
   "execution_count": 6,
   "metadata": {},
   "outputs": [
    {
     "data": {
      "text/plain": [
       "[['Friends from the domestic and international media, thank you for your patience. To begin, I would like to thank everyone who voted today. Regardless of how you voted, by taking part in this election you have put democratic values into practice. With each presidential election, Taiwan is showing the world how much we cherish our free, democratic way of life, and how much we cherish our nation: the Republic of China (Taiwan). I would also like to offer my respect to Mayor Han and Chairman Soong for completing this democratic journey with me. I will take your constructive criticism with me into my next term. I am',\n",
       "  ' confident that although our parties may have different views, we will have many opportunities to cooperate in the future. Today, the Taiwanese people voted to keep the Democratic Progressive Party in office and maintain our majority in the legislature. This result signifies that our administration and legislators have been moving in the right direction over the past four years. I want to thank each and every person who voted for the Tsai-Lai ticket, as well as everyone who supported our DPP candidates. Thank you for choosing democratic and progressive values, and for choosing the path of reform and unity. I p',\n",
       "  'romise that I will not stop reflecting and improving after winning this election. We have made progress over the past four years, but we also have our shortcomings. Now that the Taiwanese people have given us four more years, we will do more and be better, to make up for areas where we fell short or have not yet finished our work. Going forward, we will keep making this country better, with more complete care across society, more comprehensive infrastructure, a more competitive economy, and a more internationalized employment and education environment. We will constantly remind ourselves that our administratio',\n",
       "  'n must be clean, competent, and efficient. We must continue to push for reforms, we must continue to foster equal regional development, and we must continue to reduce the income gap. Of course, we will also continue to work to keep our country safe and defend our sovereignty. My administration and I will work even harder during my second term to build on our achievements over the past four years. This election has received unprecedented international attention. There are many international media here today, and I want to take this opportunity to thank all of our friends in the international community on behalf',\n",
       "  \" of the Taiwanese people for valuing and supporting Taiwan's democracy. This election has shown that the Taiwanese people hope the international community will witness our commitment to democratic values and will respect our national identity. We also hope that Taiwan will be given a fair opportunity to participate in international affairs. The Republic of China (Taiwan) is an indispensable member of the international community. We are willing to work together with all countries to take on shared responsibility, take part in shared prosperity, and help maintain regional peace and stability. All countries shoul\",\n",
       "  \"d consider Taiwan a partner, not an issue. The results of this election carry an added significance, because they have shown that when our sovereignty and democracy are threatened, the Taiwanese people will shout our determination even more loudly back. Over the past three years, our administration has been firm on our bottom line on Taiwan's sovereignty, but we have also been willing to maintain healthy exchanges with China. In the face of China's diplomatic pressure and military threats, we have maintained a non-provocative, non-adventurist attitude that has prevented serious conflict from breaking out in th\",\n",
       "  'e Taiwan Strait. However, through their increasing pressure and proposal of a \"one country, two systems\" model for Taiwan, China has hoped to force us to accept conditions that are entirely unacceptable. In the face of China\\'s intention to unilaterally change the cross-strait status quo, Taiwan has had no choice but to continue strengthening our democratic defense mechanisms, and establish national defense capabilities that can ensure security in the Taiwan Strait. I want to emphasize that my commitment to peaceful, stable cross-strait relations remains unchanged. But both sides of the Taiwan Strait have a res',\n",
       "  'ponsibility to ensure peaceful and stable cross-strait relations. Today, I want to once again call upon the Beijing authorities to remind them that peace, parity, democracy, and dialogue are the key to positive cross-strait interactions and long-term stable development. These four words are also the only path to bringing together and benefitting both our two peoples. \"Peace\" means that China must abandon threats of force against Taiwan. \"Parity\" means that neither side of the Taiwan Strait should deny the fact of the other\\'s existence. \"Democracy\" means that the future of Taiwan must be decided by our country\\'',\n",
       "  's 23 million people. \"Dialogue\" means that we must be able to sit down and discuss the future development of cross-strait relations. I also hope that the Beijing authorities understand that democratic Taiwan, and our democratically-elected government, will not concede to threats and intimidation. Positive cross-strait interactions founded in mutual respect are the best way to serve our peoples. The results of this election have made that answer crystal clear. Finally, I want to remind everyone that now that the elections are over, any conflicts that arose during the campaign process should end as well. I ask t',\n",
       "  'hat none of my supporters attempt to provoke our opponents. We need to embrace each other and unite under the banner of democracy if we want to overcome the challenges facing our country. I would like to thank all of the people who have worked side by side with me over the past four years, particularly those standing beside me today. We now have an even greater responsibility, and there is even more work for us ahead. Beginning tomorrow, we will continue to work hard each day. We will not let down those who cast their vote for us today. Thank you very much. (Full text provided by the Democratic Progressive Par']]"
      ]
     },
     "execution_count": 6,
     "metadata": {},
     "output_type": "execute_result"
    }
   ],
   "source": [
    "# Let's create a list to hold all of the pieces of text\n",
    "list_pieces = []\n",
    "for t in data.speech:\n",
    "    split = split_text(t)\n",
    "    list_pieces.append(split)\n",
    "    \n",
    "list_pieces"
   ]
  },
  {
   "cell_type": "code",
   "execution_count": 8,
   "metadata": {},
   "outputs": [
    {
     "data": {
      "text/plain": [
       "1"
      ]
     },
     "execution_count": 8,
     "metadata": {},
     "output_type": "execute_result"
    }
   ],
   "source": [
    "# The list has 10 elements\n",
    "len(list_pieces)"
   ]
  },
  {
   "cell_type": "code",
   "execution_count": 9,
   "metadata": {},
   "outputs": [
    {
     "data": {
      "text/plain": [
       "10"
      ]
     },
     "execution_count": 9,
     "metadata": {},
     "output_type": "execute_result"
    }
   ],
   "source": [
    "len(list_pieces[0])"
   ]
  },
  {
   "cell_type": "code",
   "execution_count": 11,
   "metadata": {},
   "outputs": [
    {
     "data": {
      "text/plain": [
       "[[0.13333333333333333,\n",
       "  0.1726190476190476,\n",
       "  0.3346153846153846,\n",
       "  0.1763888888888889,\n",
       "  0.2285714285714286,\n",
       "  0.045833333333333344,\n",
       "  -0.08333333333333333,\n",
       "  0.058712121212121215,\n",
       "  0.23881673881673882,\n",
       "  0.08680555555555554]]"
      ]
     },
     "execution_count": 11,
     "metadata": {},
     "output_type": "execute_result"
    }
   ],
   "source": [
    "# Calculate the polarity for each piece of text\n",
    "\n",
    "polarity_speech = []\n",
    "for lp in list_pieces:\n",
    "    polarity_piece = []\n",
    "    for p in lp:\n",
    "        polarity_piece.append(TextBlob(p).sentiment.polarity)\n",
    "    polarity_speech.append(polarity_piece)\n",
    "    \n",
    "polarity_speech"
   ]
  },
  {
   "cell_type": "code",
   "execution_count": null,
   "metadata": {},
   "outputs": [],
   "source": []
  },
  {
   "cell_type": "code",
   "execution_count": 24,
   "metadata": {},
   "outputs": [
    {
     "data": {
      "image/png": "[encoded data removed]",
      "text/plain": [
       "<Figure size 576x360 with 1 Axes>"
      ]
     },
     "metadata": {
      "needs_background": "light"
     },
     "output_type": "display_data"
    }
   ],
   "source": [
    "plt.rcParams['figure.figsize'] = [8, 5]\n",
    "\n",
    "#plt.subplot(3, 4, index+1)\n",
    "plt.plot(polarity_speech[0])\n",
    "plt.plot(np.arange(0,10), np.zeros(10))\n",
    "#plt.title(data['full_name'][index])\n",
    "plt.ylim(ymin=-.2, ymax=.4)\n",
    "    \n",
    "plt.show()"
   ]
  },
  {
   "cell_type": "code",
   "execution_count": null,
   "metadata": {},
   "outputs": [],
   "source": []
  }
 ],
 "metadata": {
  "kernelspec": {
   "display_name": "Python 3",
   "language": "python",
   "name": "python3"
  },
  "language_info": {
   "codemirror_mode": {
    "name": "ipython",
    "version": 3
   },
   "file_extension": ".py",
   "mimetype": "text/x-python",
   "name": "python",
   "nbconvert_exporter": "python",
   "pygments_lexer": "ipython3",
   "version": "3.7.4"
  }
 },
 "nbformat": 4,
 "nbformat_minor": 2
}
